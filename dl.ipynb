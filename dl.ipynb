{
 "cells": [
  {
   "cell_type": "code",
   "execution_count": 2,
   "metadata": {},
   "outputs": [],
   "source": [
    "import pandas as pd"
   ]
  },
  {
   "cell_type": "code",
   "execution_count": 3,
   "metadata": {},
   "outputs": [],
   "source": [
    "df = pd.read_csv(\"dvd rental final csv.csv\")"
   ]
  },
  {
   "cell_type": "code",
   "execution_count": 4,
   "metadata": {},
   "outputs": [
    {
     "data": {
      "text/plain": [
       "(405315, 9)"
      ]
     },
     "execution_count": 4,
     "metadata": {},
     "output_type": "execute_result"
    }
   ],
   "source": [
    "df.shape"
   ]
  },
  {
   "cell_type": "code",
   "execution_count": 7,
   "metadata": {},
   "outputs": [
    {
     "data": {
      "text/plain": [
       "customer_id      599\n",
       "active             2\n",
       "create_date        1\n",
       "last_update        1\n",
       "rental_date    15815\n",
       "return_date    15836\n",
       "amount            19\n",
       "category          16\n",
       "language           1\n",
       "dtype: int64"
      ]
     },
     "execution_count": 7,
     "metadata": {},
     "output_type": "execute_result"
    }
   ],
   "source": [
    "df.nunique()"
   ]
  },
  {
   "cell_type": "code",
   "execution_count": 9,
   "metadata": {},
   "outputs": [
    {
     "data": {
      "text/plain": [
       "np.int64(278442)"
      ]
     },
     "execution_count": 9,
     "metadata": {},
     "output_type": "execute_result"
    }
   ],
   "source": [
    "df.duplicated().sum()"
   ]
  },
  {
   "cell_type": "code",
   "execution_count": 12,
   "metadata": {},
   "outputs": [],
   "source": [
    "df = df.drop_duplicates()"
   ]
  },
  {
   "cell_type": "code",
   "execution_count": 13,
   "metadata": {},
   "outputs": [
    {
     "data": {
      "text/html": [
       "<div>\n",
       "<style scoped>\n",
       "    .dataframe tbody tr th:only-of-type {\n",
       "        vertical-align: middle;\n",
       "    }\n",
       "\n",
       "    .dataframe tbody tr th {\n",
       "        vertical-align: top;\n",
       "    }\n",
       "\n",
       "    .dataframe thead th {\n",
       "        text-align: right;\n",
       "    }\n",
       "</style>\n",
       "<table border=\"1\" class=\"dataframe\">\n",
       "  <thead>\n",
       "    <tr style=\"text-align: right;\">\n",
       "      <th></th>\n",
       "      <th>customer_id</th>\n",
       "      <th>active</th>\n",
       "      <th>create_date</th>\n",
       "      <th>last_update</th>\n",
       "      <th>rental_date</th>\n",
       "      <th>return_date</th>\n",
       "      <th>amount</th>\n",
       "      <th>category</th>\n",
       "      <th>language</th>\n",
       "    </tr>\n",
       "  </thead>\n",
       "  <tbody>\n",
       "    <tr>\n",
       "      <th>0</th>\n",
       "      <td>459</td>\n",
       "      <td>1</td>\n",
       "      <td>2006-02-14</td>\n",
       "      <td>2013-05-26 14:49:45.738</td>\n",
       "      <td>2005-05-24 22:54:33</td>\n",
       "      <td>2005-05-28 19:40:33</td>\n",
       "      <td>4.99</td>\n",
       "      <td>Music</td>\n",
       "      <td>English</td>\n",
       "    </tr>\n",
       "    <tr>\n",
       "      <th>2</th>\n",
       "      <td>459</td>\n",
       "      <td>1</td>\n",
       "      <td>2006-02-14</td>\n",
       "      <td>2013-05-26 14:49:45.738</td>\n",
       "      <td>2005-05-24 22:54:33</td>\n",
       "      <td>2005-05-28 19:40:33</td>\n",
       "      <td>2.99</td>\n",
       "      <td>Music</td>\n",
       "      <td>English</td>\n",
       "    </tr>\n",
       "    <tr>\n",
       "      <th>3</th>\n",
       "      <td>459</td>\n",
       "      <td>1</td>\n",
       "      <td>2006-02-14</td>\n",
       "      <td>2013-05-26 14:49:45.738</td>\n",
       "      <td>2005-05-24 22:54:33</td>\n",
       "      <td>2005-05-28 19:40:33</td>\n",
       "      <td>6.99</td>\n",
       "      <td>Music</td>\n",
       "      <td>English</td>\n",
       "    </tr>\n",
       "    <tr>\n",
       "      <th>5</th>\n",
       "      <td>459</td>\n",
       "      <td>1</td>\n",
       "      <td>2006-02-14</td>\n",
       "      <td>2013-05-26 14:49:45.738</td>\n",
       "      <td>2005-05-24 22:54:33</td>\n",
       "      <td>2005-05-28 19:40:33</td>\n",
       "      <td>10.99</td>\n",
       "      <td>Music</td>\n",
       "      <td>English</td>\n",
       "    </tr>\n",
       "    <tr>\n",
       "      <th>6</th>\n",
       "      <td>459</td>\n",
       "      <td>1</td>\n",
       "      <td>2006-02-14</td>\n",
       "      <td>2013-05-26 14:49:45.738</td>\n",
       "      <td>2005-05-24 22:54:33</td>\n",
       "      <td>2005-05-28 19:40:33</td>\n",
       "      <td>9.99</td>\n",
       "      <td>Music</td>\n",
       "      <td>English</td>\n",
       "    </tr>\n",
       "    <tr>\n",
       "      <th>...</th>\n",
       "      <td>...</td>\n",
       "      <td>...</td>\n",
       "      <td>...</td>\n",
       "      <td>...</td>\n",
       "      <td>...</td>\n",
       "      <td>...</td>\n",
       "      <td>...</td>\n",
       "      <td>...</td>\n",
       "      <td>...</td>\n",
       "    </tr>\n",
       "    <tr>\n",
       "      <th>405294</th>\n",
       "      <td>130</td>\n",
       "      <td>1</td>\n",
       "      <td>2006-02-14</td>\n",
       "      <td>2013-05-26 14:49:45.738</td>\n",
       "      <td>2005-05-24 22:53:30</td>\n",
       "      <td>2005-05-26 22:04:30</td>\n",
       "      <td>4.99</td>\n",
       "      <td>Family</td>\n",
       "      <td>English</td>\n",
       "    </tr>\n",
       "    <tr>\n",
       "      <th>405295</th>\n",
       "      <td>130</td>\n",
       "      <td>1</td>\n",
       "      <td>2006-02-14</td>\n",
       "      <td>2013-05-26 14:49:45.738</td>\n",
       "      <td>2005-05-24 22:53:30</td>\n",
       "      <td>2005-05-26 22:04:30</td>\n",
       "      <td>0.99</td>\n",
       "      <td>Family</td>\n",
       "      <td>English</td>\n",
       "    </tr>\n",
       "    <tr>\n",
       "      <th>405298</th>\n",
       "      <td>130</td>\n",
       "      <td>1</td>\n",
       "      <td>2006-02-14</td>\n",
       "      <td>2013-05-26 14:49:45.738</td>\n",
       "      <td>2005-05-24 22:53:30</td>\n",
       "      <td>2005-05-26 22:04:30</td>\n",
       "      <td>3.99</td>\n",
       "      <td>Family</td>\n",
       "      <td>English</td>\n",
       "    </tr>\n",
       "    <tr>\n",
       "      <th>405304</th>\n",
       "      <td>130</td>\n",
       "      <td>1</td>\n",
       "      <td>2006-02-14</td>\n",
       "      <td>2013-05-26 14:49:45.738</td>\n",
       "      <td>2005-05-24 22:53:30</td>\n",
       "      <td>2005-05-26 22:04:30</td>\n",
       "      <td>6.99</td>\n",
       "      <td>Family</td>\n",
       "      <td>English</td>\n",
       "    </tr>\n",
       "    <tr>\n",
       "      <th>405305</th>\n",
       "      <td>130</td>\n",
       "      <td>1</td>\n",
       "      <td>2006-02-14</td>\n",
       "      <td>2013-05-26 14:49:45.738</td>\n",
       "      <td>2005-05-24 22:53:30</td>\n",
       "      <td>2005-05-26 22:04:30</td>\n",
       "      <td>2.99</td>\n",
       "      <td>Family</td>\n",
       "      <td>English</td>\n",
       "    </tr>\n",
       "  </tbody>\n",
       "</table>\n",
       "<p>126873 rows × 9 columns</p>\n",
       "</div>"
      ],
      "text/plain": [
       "        customer_id  active create_date              last_update  \\\n",
       "0               459       1  2006-02-14  2013-05-26 14:49:45.738   \n",
       "2               459       1  2006-02-14  2013-05-26 14:49:45.738   \n",
       "3               459       1  2006-02-14  2013-05-26 14:49:45.738   \n",
       "5               459       1  2006-02-14  2013-05-26 14:49:45.738   \n",
       "6               459       1  2006-02-14  2013-05-26 14:49:45.738   \n",
       "...             ...     ...         ...                      ...   \n",
       "405294          130       1  2006-02-14  2013-05-26 14:49:45.738   \n",
       "405295          130       1  2006-02-14  2013-05-26 14:49:45.738   \n",
       "405298          130       1  2006-02-14  2013-05-26 14:49:45.738   \n",
       "405304          130       1  2006-02-14  2013-05-26 14:49:45.738   \n",
       "405305          130       1  2006-02-14  2013-05-26 14:49:45.738   \n",
       "\n",
       "                rental_date          return_date  amount category  \\\n",
       "0       2005-05-24 22:54:33  2005-05-28 19:40:33    4.99    Music   \n",
       "2       2005-05-24 22:54:33  2005-05-28 19:40:33    2.99    Music   \n",
       "3       2005-05-24 22:54:33  2005-05-28 19:40:33    6.99    Music   \n",
       "5       2005-05-24 22:54:33  2005-05-28 19:40:33   10.99    Music   \n",
       "6       2005-05-24 22:54:33  2005-05-28 19:40:33    9.99    Music   \n",
       "...                     ...                  ...     ...      ...   \n",
       "405294  2005-05-24 22:53:30  2005-05-26 22:04:30    4.99   Family   \n",
       "405295  2005-05-24 22:53:30  2005-05-26 22:04:30    0.99   Family   \n",
       "405298  2005-05-24 22:53:30  2005-05-26 22:04:30    3.99   Family   \n",
       "405304  2005-05-24 22:53:30  2005-05-26 22:04:30    6.99   Family   \n",
       "405305  2005-05-24 22:53:30  2005-05-26 22:04:30    2.99   Family   \n",
       "\n",
       "                    language  \n",
       "0       English               \n",
       "2       English               \n",
       "3       English               \n",
       "5       English               \n",
       "6       English               \n",
       "...                      ...  \n",
       "405294  English               \n",
       "405295  English               \n",
       "405298  English               \n",
       "405304  English               \n",
       "405305  English               \n",
       "\n",
       "[126873 rows x 9 columns]"
      ]
     },
     "execution_count": 13,
     "metadata": {},
     "output_type": "execute_result"
    }
   ],
   "source": [
    "df"
   ]
  },
  {
   "cell_type": "code",
   "execution_count": 14,
   "metadata": {},
   "outputs": [
    {
     "data": {
      "text/plain": [
       "customer_id       0\n",
       "active            0\n",
       "create_date       0\n",
       "last_update       0\n",
       "rental_date       0\n",
       "return_date    1477\n",
       "amount            0\n",
       "category          0\n",
       "language          0\n",
       "dtype: int64"
      ]
     },
     "execution_count": 14,
     "metadata": {},
     "output_type": "execute_result"
    }
   ],
   "source": [
    "df.isnull().sum()"
   ]
  },
  {
   "cell_type": "code",
   "execution_count": 15,
   "metadata": {},
   "outputs": [
    {
     "data": {
      "text/plain": [
       "create_date\n",
       "2006-02-14    126873\n",
       "Name: count, dtype: int64"
      ]
     },
     "execution_count": 15,
     "metadata": {},
     "output_type": "execute_result"
    }
   ],
   "source": [
    "df['create_date'].value_counts()"
   ]
  },
  {
   "cell_type": "code",
   "execution_count": null,
   "metadata": {},
   "outputs": [],
   "source": []
  }
 ],
 "metadata": {
  "kernelspec": {
   "display_name": ".venv",
   "language": "python",
   "name": "python3"
  },
  "language_info": {
   "codemirror_mode": {
    "name": "ipython",
    "version": 3
   },
   "file_extension": ".py",
   "mimetype": "text/x-python",
   "name": "python",
   "nbconvert_exporter": "python",
   "pygments_lexer": "ipython3",
   "version": "3.9.6"
  }
 },
 "nbformat": 4,
 "nbformat_minor": 2
}
